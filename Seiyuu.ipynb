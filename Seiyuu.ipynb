{
 "cells": [
  {
   "cell_type": "code",
   "execution_count": 2,
   "id": "b26984de",
   "metadata": {},
   "outputs": [
    {
     "name": "stdout",
     "output_type": "stream",
     "text": [
      "{'name': 'Eleanor, Glorious Flower', 'cv': '内田真礼'}\n"
     ]
    }
   ],
   "source": [
    "import requests\n",
    "\n",
    "def get_card_cv(name_en: str):\n",
    "\n",
    "    url_en = \"https://shadowverse-portal.com/api/v1/cards?format=json&lang=en\"\n",
    "    data_en = requests.get(url_en).json()\n",
    "    target = None\n",
    "    \n",
    "    for card in data_en[\"data\"][\"cards\"]:\n",
    "        card_name_en = card.get(\"card_name\")\n",
    "        if card_name_en and card_name_en.lower() == name_en.lower():\n",
    "            target = card\n",
    "            break\n",
    "    \n",
    "    if not target:\n",
    "        return None\n",
    "    \n",
    "    card_id = target[\"card_id\"]\n",
    "\n",
    "    url_ja = \"https://shadowverse-portal.com/api/v1/cards?format=json&lang=ja\"\n",
    "    data_ja = requests.get(url_ja).json()\n",
    "    for card in data_ja[\"data\"][\"cards\"]:\n",
    "        if card[\"card_id\"] == card_id:\n",
    "            return {\n",
    "                \"name\": target[\"card_name\"],\n",
    "                \"cv\": card.get(\"cv\")\n",
    "            }\n",
    "\n",
    "print(get_card_cv(\"Eleanor, Glorious Flower\"))\n"
   ]
  },
  {
   "cell_type": "code",
   "execution_count": 1,
   "id": "45cde645",
   "metadata": {},
   "outputs": [
    {
     "name": "stdout",
     "output_type": "stream",
     "text": [
      "Number of cards: 5933\n",
      "dict_keys(['card_id', 'foil_card_id', 'card_set_id', 'card_name', 'card_name_ruby', 'is_foil', 'char_type', 'clan', 'tribe_name', 'skill', 'skill_condition', 'skill_target', 'skill_option', 'skill_preprocess', 'skill_disc', 'org_skill_disc', 'evo_skill_disc', 'org_evo_skill_disc', 'cost', 'atk', 'life', 'evo_atk', 'evo_life', 'rarity', 'get_red_ether', 'use_red_ether', 'description', 'evo_description', 'cv', 'copyright', 'base_card_id', 'normal_card_id', 'format_type', 'restricted_count', 'restricted_count_co_main', 'restricted_count_co_sub', 'resource_card_id', 'resurgent_card', 'is_ts_rotation', 'is_eight_one_zero_start_id'])\n",
      "{\n",
      "  \"card_id\": 930844060,\n",
      "  \"foil_card_id\": 930844061,\n",
      "  \"card_set_id\": 90000,\n",
      "  \"card_name\": \"Maisha's Ultimate\",\n",
      "  \"card_name_ruby\": \"\",\n",
      "  \"is_foil\": 0,\n",
      "  \"char_type\": 4,\n",
      "  \"clan\": 8,\n",
      "  \"tribe_name\": \"-\",\n",
      "  \"skill\": \"powerup,quick,bp_modifier\",\n",
      "  \"skill_condition\": \"character=me,{me.inplay.class.bp}>=10,character=me\",\n",
      "  \"skill_target\": \"character=me&target=inplay&card_type=unit&select_count=1,character=me&target=last_target&card_type=unit,character=me&target=inplay&card_type=class\",\n",
      "  \"skill_option\": \"add_offense={me.inplay.class.bp},none,gain_bp={me.inplay.class.bp}\",\n",
      "  \"skill_preprocess\": \"none,none,none\",\n",
      "  \"skill_disc\": \"Give +X/+0 to an allied follower. If X is at least 10, give it Storm. X equals the amount of valor you have.\",\n",
      "  \"org_skill_disc\": \"Give +X/+0 to an allied follower. If X is at least 10, give it [b]Storm[/b]. X equals the amount of valor you have.\",\n",
      "  \"evo_skill_disc\": \"\",\n",
      "  \"org_evo_skill_disc\": \"\",\n",
      "  \"cost\": -99,\n",
      "  \"atk\": 0,\n",
      "  \"life\": 0,\n",
      "  \"evo_atk\": 0,\n",
      "  \"evo_life\": 0,\n",
      "  \"rarity\": 4,\n",
      "  \"get_red_ether\": 0,\n",
      "  \"use_red_ether\": 0,\n",
      "  \"description\": \"\",\n",
      "  \"evo_description\": \"\",\n",
      "  \"cv\": \"\",\n",
      "  \"copyright\": null,\n",
      "  \"base_card_id\": 930844060,\n",
      "  \"normal_card_id\": 930844060,\n",
      "  \"format_type\": 0,\n",
      "  \"restricted_count\": 3,\n",
      "  \"restricted_count_co_main\": 3,\n",
      "  \"restricted_count_co_sub\": 3,\n",
      "  \"resource_card_id\": 121841010,\n",
      "  \"resurgent_card\": 0,\n",
      "  \"is_ts_rotation\": 0,\n",
      "  \"is_eight_one_zero_start_id\": false\n",
      "}\n"
     ]
    }
   ],
   "source": [
    "import requests\n",
    "\n",
    "url_en = \"https://shadowverse-portal.com/api/v1/cards?format=json&lang=en\"\n",
    "data = requests.get(url_en).json()\n",
    "\n",
    "cards = data[\"data\"][\"cards\"]\n",
    "print(\"Number of cards:\", len(cards))\n",
    "\n",
    "# Print keys of the first card\n",
    "print(cards[0].keys())\n",
    "\n",
    "# Print one sample nicely\n",
    "import json\n",
    "print(json.dumps(cards[0], indent=2, ensure_ascii=False))\n"
   ]
  },
  {
   "cell_type": "code",
   "execution_count": 2,
   "id": "c0ed3775",
   "metadata": {},
   "outputs": [
    {
     "name": "stdout",
     "output_type": "stream",
     "text": [
      "{'card_id': 930844060, 'name_en': \"Maisha's Ultimate\", 'set_id': 90000, 'rarity': 4, 'cost': -99, 'cv_jp': '-'}\n",
      "{'card_id': 930144010, 'name_en': \"Sekka's Technique\", 'set_id': 90000, 'rarity': 1, 'cost': -1, 'cv_jp': '-'}\n",
      "{'card_id': 930244010, 'name_en': \"Taketsumi's Technique\", 'set_id': 90000, 'rarity': 3, 'cost': -1, 'cv_jp': '-'}\n",
      "{'card_id': 930244040, 'name_en': \"Bunny's Technique\", 'set_id': 90000, 'rarity': 1, 'cost': -1, 'cv_jp': '-'}\n",
      "{'card_id': 930244070, 'name_en': \"Nahtnaught's Technique\", 'set_id': 90000, 'rarity': 1, 'cost': -1, 'cv_jp': '-'}\n",
      "{'card_id': 930344040, 'name_en': \"Amaryllis's Technique\", 'set_id': 90000, 'rarity': 1, 'cost': -1, 'cv_jp': '-'}\n",
      "{'card_id': 930344070, 'name_en': \"Eleanor's Technique\", 'set_id': 90000, 'rarity': 2, 'cost': -1, 'cv_jp': '-'}\n",
      "{'card_id': 930444010, 'name_en': \"Drache's Technique\", 'set_id': 90000, 'rarity': 1, 'cost': -1, 'cv_jp': '-'}\n",
      "{'card_id': 930444070, 'name_en': \"Mizuchi's Technique\", 'set_id': 90000, 'rarity': 1, 'cost': -1, 'cv_jp': '-'}\n",
      "{'card_id': 930544010, 'name_en': \"Anisage's Technique\", 'set_id': 90000, 'rarity': 1, 'cost': -1, 'cv_jp': '-'}\n",
      "Saved cards_slim.json with 5933 entries\n"
     ]
    }
   ],
   "source": [
    "import requests\n",
    "import json\n",
    "\n",
    "EN_URL = \"https://shadowverse-portal.com/api/v1/cards?format=json&lang=en\"\n",
    "JA_URL = \"https://shadowverse-portal.com/api/v1/cards?format=json&lang=ja\"\n",
    "\n",
    "# fetch\n",
    "cards_en = requests.get(EN_URL).json()[\"data\"][\"cards\"]\n",
    "cards_ja = requests.get(JA_URL).json()[\"data\"][\"cards\"]\n",
    "\n",
    "# make JP map by id\n",
    "jp_by_id = {c[\"card_id\"]: c for c in cards_ja}\n",
    "\n",
    "# pick only fields you care about\n",
    "slim = []\n",
    "for c in cards_en:\n",
    "    cid = c[\"card_id\"]\n",
    "    jp = jp_by_id.get(cid, {})\n",
    "    slim.append({\n",
    "        \"card_id\": cid,\n",
    "        \"name_en\": c.get(\"card_name\"),\n",
    "        \"set_id\": c.get(\"card_set_id\"),\n",
    "        \"rarity\": c.get(\"rarity\"),\n",
    "        \"cost\": c.get(\"cost\"),\n",
    "        \"cv_jp\": jp.get(\"cv\"),  # only JP has CV\n",
    "    })\n",
    "\n",
    "# preview the first few\n",
    "for row in slim[:10]:\n",
    "    print(row)\n",
    "\n",
    "# save to file\n",
    "with open(\"cards_slim.json\", \"w\", encoding=\"utf-8\") as f:\n",
    "    json.dump(slim, f, ensure_ascii=False, indent=2)\n",
    "print(\"Saved cards_slim.json with\", len(slim), \"entries\")\n"
   ]
  },
  {
   "cell_type": "code",
   "execution_count": 13,
   "id": "9836e9a1",
   "metadata": {},
   "outputs": [
    {
     "name": "stdout",
     "output_type": "stream",
     "text": [
      "EN cards: 5933 JP cards: 5933\n"
     ]
    }
   ],
   "source": [
    "import json\n",
    "import collections\n",
    "import requests\n",
    "\n",
    "EN_URL = \"https://shadowverse-portal.com/api/v1/cards?format=json&lang=en\"\n",
    "JA_URL = \"https://shadowverse-portal.com/api/v1/cards?format=json&lang=ja\"\n",
    "\n",
    "def fetch_cards(url):\n",
    "    r = requests.get(url, timeout=60)\n",
    "    r.raise_for_status()\n",
    "    return r.json()[\"data\"][\"cards\"]\n",
    "\n",
    "cards_en = fetch_cards(EN_URL)\n",
    "cards_ja = fetch_cards(JA_URL) \n",
    "\n",
    "print(\"EN cards:\", len(cards_en), \"JP cards:\", len(cards_ja))\n"
   ]
  },
  {
   "cell_type": "code",
   "execution_count": 30,
   "id": "27c9ef78",
   "metadata": {},
   "outputs": [
    {
     "name": "stdout",
     "output_type": "stream",
     "text": [
      "Remove Story specialist cards: 3725\n",
      "File updated\n"
     ]
    }
   ],
   "source": [
    "import json\n",
    "from pathlib import Path\n",
    "\n",
    "DATA_DIR = Path(\"D:/Seiyuu_Search\") / \"data\"\n",
    "file_path = DATA_DIR / \"cards_slim.json\"\n",
    "\n",
    "# Load\n",
    "with open(file_path, encoding=\"utf-8\") as f:\n",
    "    cards = json.load(f)\n",
    "\n",
    "# Clean\n",
    "fixed_cards = []\n",
    "for c in cards:\n",
    "    cv = c.get(\"cv_jp\")\n",
    "    # Check if cv is not a string or if it is not '-'\n",
    "    if not isinstance(cv, str) or cv != \"-\":\n",
    "        fixed_cards.append(c)\n",
    "\n",
    "print(\"Remove Story specialist cards:\", len(fixed_cards))\n",
    "\n",
    "# Save back\n",
    "with open(file_path, \"w\", encoding=\"utf-8\") as f:\n",
    "    json.dump(fixed_cards, f, ensure_ascii=False, indent=2)\n",
    "\n",
    "print(\"File updated\")"
   ]
  },
  {
   "cell_type": "code",
   "execution_count": null,
   "id": "f4ca34d5",
   "metadata": {},
   "outputs": [
    {
     "name": "stdout",
     "output_type": "stream",
     "text": [
      "Unique CV count: 555\n",
      "All unique CVs with counts saved → D:\\Seiyuu_Search\\data\\unique_cv.txt\n"
     ]
    }
   ],
   "source": [
    "import json\n",
    "from pathlib import Path\n",
    "from collections import Counter\n",
    "\n",
    "DATA_DIR = Path(\"D:/Seiyuu_Search\") / \"data\"\n",
    "\n",
    "with open(DATA_DIR / \"cards_slim.json\", encoding=\"utf-8\") as f:\n",
    "    cards = json.load(f)\n",
    "\n",
    "# count how many times for each cv_jp\n",
    "cv_counter = Counter(\n",
    "    c[\"cv_jp\"] for c in cards\n",
    "    if c.get(\"cv_jp\") and c[\"cv_jp\"] != \"-\"\n",
    ")\n",
    "\n",
    "print(\"Unique CV count:\", len(cv_counter))\n",
    "\n",
    "\n",
    "# save to file\n",
    "with open(DATA_DIR / \"unique_cv.txt\", \"w\", encoding=\"utf-8\") as f:\n",
    "    for cv, count in sorted(cv_counter.items()):\n",
    "        f.write(f\"{cv}\\n\")\n",
    "\n",
    "print(f\"All unique CVs with counts saved → {DATA_DIR / 'unique_cv.txt'}\")\n"
   ]
  },
  {
   "cell_type": "code",
   "execution_count": null,
   "id": "235aa219",
   "metadata": {},
   "outputs": [],
   "source": []
  }
 ],
 "metadata": {
  "kernelspec": {
   "display_name": "Python 3",
   "language": "python",
   "name": "python3"
  },
  "language_info": {
   "codemirror_mode": {
    "name": "ipython",
    "version": 3
   },
   "file_extension": ".py",
   "mimetype": "text/x-python",
   "name": "python",
   "nbconvert_exporter": "python",
   "pygments_lexer": "ipython3",
   "version": "3.11.9"
  }
 },
 "nbformat": 4,
 "nbformat_minor": 5
}
